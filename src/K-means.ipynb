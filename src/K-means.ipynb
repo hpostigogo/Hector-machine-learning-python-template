{
 "cells": [
  {
   "cell_type": "markdown",
   "metadata": {},
   "source": [
    "https://github.com/4GeeksAcademy/Hector-K-means-python.git"
   ]
  }
 ],
 "metadata": {
  "language_info": {
   "name": "python"
  }
 },
 "nbformat": 4,
 "nbformat_minor": 2
}
