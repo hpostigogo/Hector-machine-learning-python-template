{
 "cells": [
  {
   "cell_type": "markdown",
   "metadata": {},
   "source": [
    "https://github.com/4GeeksAcademy/Hector-regularized-LinearReg.git"
   ]
  },
  {
   "cell_type": "code",
   "execution_count": 2,
   "metadata": {},
   "outputs": [],
   "source": [
    "# Your code here\n",
    "import pandas as pd\n",
    "from sklearn.model_selection import train_test_split\n",
    "from sklearn.preprocessing import StandardScaler,LabelEncoder\n",
    "from sklearn.linear_model import LinearRegression, LassoCV, RidgeCV\n",
    "from sklearn.metrics import r2_score, median_absolute_error, mean_absolute_percentage_error\n",
    "import matplotlib.pyplot as plt\n",
    "import numpy as np"
   ]
  },
  {
   "cell_type": "code",
   "execution_count": 3,
   "metadata": {},
   "outputs": [
    {
     "data": {
      "text/html": [
       "<div>\n",
       "<style scoped>\n",
       "    .dataframe tbody tr th:only-of-type {\n",
       "        vertical-align: middle;\n",
       "    }\n",
       "\n",
       "    .dataframe tbody tr th {\n",
       "        vertical-align: top;\n",
       "    }\n",
       "\n",
       "    .dataframe thead th {\n",
       "        text-align: right;\n",
       "    }\n",
       "</style>\n",
       "<table border=\"1\" class=\"dataframe\">\n",
       "  <thead>\n",
       "    <tr style=\"text-align: right;\">\n",
       "      <th></th>\n",
       "      <th>fips</th>\n",
       "      <th>TOT_POP</th>\n",
       "      <th>0-9</th>\n",
       "      <th>0-9 y/o % of total pop</th>\n",
       "      <th>19-Oct</th>\n",
       "      <th>10-19 y/o % of total pop</th>\n",
       "      <th>20-29</th>\n",
       "      <th>20-29 y/o % of total pop</th>\n",
       "      <th>30-39</th>\n",
       "      <th>30-39 y/o % of total pop</th>\n",
       "      <th>...</th>\n",
       "      <th>COPD_number</th>\n",
       "      <th>diabetes_prevalence</th>\n",
       "      <th>diabetes_Lower 95% CI</th>\n",
       "      <th>diabetes_Upper 95% CI</th>\n",
       "      <th>diabetes_number</th>\n",
       "      <th>CKD_prevalence</th>\n",
       "      <th>CKD_Lower 95% CI</th>\n",
       "      <th>CKD_Upper 95% CI</th>\n",
       "      <th>CKD_number</th>\n",
       "      <th>Urban_rural_code</th>\n",
       "    </tr>\n",
       "  </thead>\n",
       "  <tbody>\n",
       "    <tr>\n",
       "      <th>0</th>\n",
       "      <td>1001</td>\n",
       "      <td>55601</td>\n",
       "      <td>6787</td>\n",
       "      <td>12.206615</td>\n",
       "      <td>7637</td>\n",
       "      <td>13.735364</td>\n",
       "      <td>6878</td>\n",
       "      <td>12.370281</td>\n",
       "      <td>7089</td>\n",
       "      <td>12.749771</td>\n",
       "      <td>...</td>\n",
       "      <td>3644</td>\n",
       "      <td>12.9</td>\n",
       "      <td>11.9</td>\n",
       "      <td>13.8</td>\n",
       "      <td>5462</td>\n",
       "      <td>3.1</td>\n",
       "      <td>2.9</td>\n",
       "      <td>3.3</td>\n",
       "      <td>1326</td>\n",
       "      <td>3</td>\n",
       "    </tr>\n",
       "    <tr>\n",
       "      <th>1</th>\n",
       "      <td>1003</td>\n",
       "      <td>218022</td>\n",
       "      <td>24757</td>\n",
       "      <td>11.355276</td>\n",
       "      <td>26913</td>\n",
       "      <td>12.344167</td>\n",
       "      <td>23579</td>\n",
       "      <td>10.814964</td>\n",
       "      <td>25213</td>\n",
       "      <td>11.564429</td>\n",
       "      <td>...</td>\n",
       "      <td>14692</td>\n",
       "      <td>12.0</td>\n",
       "      <td>11.0</td>\n",
       "      <td>13.1</td>\n",
       "      <td>20520</td>\n",
       "      <td>3.2</td>\n",
       "      <td>3.0</td>\n",
       "      <td>3.5</td>\n",
       "      <td>5479</td>\n",
       "      <td>4</td>\n",
       "    </tr>\n",
       "    <tr>\n",
       "      <th>2</th>\n",
       "      <td>1005</td>\n",
       "      <td>24881</td>\n",
       "      <td>2732</td>\n",
       "      <td>10.980266</td>\n",
       "      <td>2960</td>\n",
       "      <td>11.896628</td>\n",
       "      <td>3268</td>\n",
       "      <td>13.134520</td>\n",
       "      <td>3201</td>\n",
       "      <td>12.865239</td>\n",
       "      <td>...</td>\n",
       "      <td>2373</td>\n",
       "      <td>19.7</td>\n",
       "      <td>18.6</td>\n",
       "      <td>20.6</td>\n",
       "      <td>3870</td>\n",
       "      <td>4.5</td>\n",
       "      <td>4.2</td>\n",
       "      <td>4.8</td>\n",
       "      <td>887</td>\n",
       "      <td>6</td>\n",
       "    </tr>\n",
       "    <tr>\n",
       "      <th>3</th>\n",
       "      <td>1007</td>\n",
       "      <td>22400</td>\n",
       "      <td>2456</td>\n",
       "      <td>10.964286</td>\n",
       "      <td>2596</td>\n",
       "      <td>11.589286</td>\n",
       "      <td>3029</td>\n",
       "      <td>13.522321</td>\n",
       "      <td>3113</td>\n",
       "      <td>13.897321</td>\n",
       "      <td>...</td>\n",
       "      <td>1789</td>\n",
       "      <td>14.1</td>\n",
       "      <td>13.2</td>\n",
       "      <td>14.9</td>\n",
       "      <td>2511</td>\n",
       "      <td>3.3</td>\n",
       "      <td>3.1</td>\n",
       "      <td>3.6</td>\n",
       "      <td>595</td>\n",
       "      <td>2</td>\n",
       "    </tr>\n",
       "    <tr>\n",
       "      <th>4</th>\n",
       "      <td>1009</td>\n",
       "      <td>57840</td>\n",
       "      <td>7095</td>\n",
       "      <td>12.266598</td>\n",
       "      <td>7570</td>\n",
       "      <td>13.087828</td>\n",
       "      <td>6742</td>\n",
       "      <td>11.656293</td>\n",
       "      <td>6884</td>\n",
       "      <td>11.901798</td>\n",
       "      <td>...</td>\n",
       "      <td>4661</td>\n",
       "      <td>13.5</td>\n",
       "      <td>12.6</td>\n",
       "      <td>14.5</td>\n",
       "      <td>6017</td>\n",
       "      <td>3.4</td>\n",
       "      <td>3.2</td>\n",
       "      <td>3.7</td>\n",
       "      <td>1507</td>\n",
       "      <td>2</td>\n",
       "    </tr>\n",
       "  </tbody>\n",
       "</table>\n",
       "<p>5 rows × 108 columns</p>\n",
       "</div>"
      ],
      "text/plain": [
       "   fips  TOT_POP    0-9  0-9 y/o % of total pop  19-Oct  \\\n",
       "0  1001    55601   6787               12.206615    7637   \n",
       "1  1003   218022  24757               11.355276   26913   \n",
       "2  1005    24881   2732               10.980266    2960   \n",
       "3  1007    22400   2456               10.964286    2596   \n",
       "4  1009    57840   7095               12.266598    7570   \n",
       "\n",
       "   10-19 y/o % of total pop  20-29  20-29 y/o % of total pop  30-39  \\\n",
       "0                 13.735364   6878                 12.370281   7089   \n",
       "1                 12.344167  23579                 10.814964  25213   \n",
       "2                 11.896628   3268                 13.134520   3201   \n",
       "3                 11.589286   3029                 13.522321   3113   \n",
       "4                 13.087828   6742                 11.656293   6884   \n",
       "\n",
       "   30-39 y/o % of total pop  ...  COPD_number  diabetes_prevalence  \\\n",
       "0                 12.749771  ...         3644                 12.9   \n",
       "1                 11.564429  ...        14692                 12.0   \n",
       "2                 12.865239  ...         2373                 19.7   \n",
       "3                 13.897321  ...         1789                 14.1   \n",
       "4                 11.901798  ...         4661                 13.5   \n",
       "\n",
       "   diabetes_Lower 95% CI  diabetes_Upper 95% CI  diabetes_number  \\\n",
       "0                   11.9                   13.8             5462   \n",
       "1                   11.0                   13.1            20520   \n",
       "2                   18.6                   20.6             3870   \n",
       "3                   13.2                   14.9             2511   \n",
       "4                   12.6                   14.5             6017   \n",
       "\n",
       "   CKD_prevalence  CKD_Lower 95% CI  CKD_Upper 95% CI  CKD_number  \\\n",
       "0             3.1               2.9               3.3        1326   \n",
       "1             3.2               3.0               3.5        5479   \n",
       "2             4.5               4.2               4.8         887   \n",
       "3             3.3               3.1               3.6         595   \n",
       "4             3.4               3.2               3.7        1507   \n",
       "\n",
       "   Urban_rural_code  \n",
       "0                 3  \n",
       "1                 4  \n",
       "2                 6  \n",
       "3                 2  \n",
       "4                 2  \n",
       "\n",
       "[5 rows x 108 columns]"
      ]
     },
     "execution_count": 3,
     "metadata": {},
     "output_type": "execute_result"
    }
   ],
   "source": [
    "data = pd.read_csv(\"https://raw.githubusercontent.com/4GeeksAcademy/regularized-linear-regression-project-tutorial/main/demographic_health_data.csv\", sep = \",\")\n",
    "data.head()"
   ]
  },
  {
   "cell_type": "code",
   "execution_count": 4,
   "metadata": {},
   "outputs": [],
   "source": [
    "#Filtraremos y procesaremos los datos de df\n",
    "data = data.drop_duplicates().reset_index(drop = True)"
   ]
  },
  {
   "cell_type": "code",
   "execution_count": 5,
   "metadata": {},
   "outputs": [
    {
     "name": "stdout",
     "output_type": "stream",
     "text": [
      "<class 'pandas.core.frame.DataFrame'>\n",
      "RangeIndex: 3140 entries, 0 to 3139\n",
      "Columns: 108 entries, fips to Urban_rural_code\n",
      "dtypes: float64(61), int64(45), object(2)\n",
      "memory usage: 2.6+ MB\n"
     ]
    }
   ],
   "source": [
    "data.info()"
   ]
  },
  {
   "cell_type": "code",
   "execution_count": 6,
   "metadata": {},
   "outputs": [
    {
     "name": "stdout",
     "output_type": "stream",
     "text": [
      "Index(['COUNTY_NAME', 'STATE_NAME'], dtype='object')\n"
     ]
    }
   ],
   "source": [
    "#Localizamos los nombre de las columnas objeto\n",
    "object_columns = data.select_dtypes(include=['object']).columns\n",
    "print(object_columns)"
   ]
  },
  {
   "cell_type": "code",
   "execution_count": 7,
   "metadata": {},
   "outputs": [
    {
     "data": {
      "text/html": [
       "<div>\n",
       "<style scoped>\n",
       "    .dataframe tbody tr th:only-of-type {\n",
       "        vertical-align: middle;\n",
       "    }\n",
       "\n",
       "    .dataframe tbody tr th {\n",
       "        vertical-align: top;\n",
       "    }\n",
       "\n",
       "    .dataframe thead th {\n",
       "        text-align: right;\n",
       "    }\n",
       "</style>\n",
       "<table border=\"1\" class=\"dataframe\">\n",
       "  <thead>\n",
       "    <tr style=\"text-align: right;\">\n",
       "      <th></th>\n",
       "      <th>fips</th>\n",
       "      <th>TOT_POP</th>\n",
       "      <th>0-9</th>\n",
       "      <th>0-9 y/o % of total pop</th>\n",
       "      <th>19-Oct</th>\n",
       "      <th>10-19 y/o % of total pop</th>\n",
       "      <th>20-29</th>\n",
       "      <th>20-29 y/o % of total pop</th>\n",
       "      <th>30-39</th>\n",
       "      <th>30-39 y/o % of total pop</th>\n",
       "      <th>...</th>\n",
       "      <th>COPD_number</th>\n",
       "      <th>diabetes_prevalence</th>\n",
       "      <th>diabetes_Lower 95% CI</th>\n",
       "      <th>diabetes_Upper 95% CI</th>\n",
       "      <th>diabetes_number</th>\n",
       "      <th>CKD_prevalence</th>\n",
       "      <th>CKD_Lower 95% CI</th>\n",
       "      <th>CKD_Upper 95% CI</th>\n",
       "      <th>CKD_number</th>\n",
       "      <th>Urban_rural_code</th>\n",
       "    </tr>\n",
       "  </thead>\n",
       "  <tbody>\n",
       "    <tr>\n",
       "      <th>0</th>\n",
       "      <td>1001</td>\n",
       "      <td>55601</td>\n",
       "      <td>6787</td>\n",
       "      <td>12.206615</td>\n",
       "      <td>7637</td>\n",
       "      <td>13.735364</td>\n",
       "      <td>6878</td>\n",
       "      <td>12.370281</td>\n",
       "      <td>7089</td>\n",
       "      <td>12.749771</td>\n",
       "      <td>...</td>\n",
       "      <td>3644</td>\n",
       "      <td>12.9</td>\n",
       "      <td>11.9</td>\n",
       "      <td>13.8</td>\n",
       "      <td>5462</td>\n",
       "      <td>3.1</td>\n",
       "      <td>2.9</td>\n",
       "      <td>3.3</td>\n",
       "      <td>1326</td>\n",
       "      <td>3</td>\n",
       "    </tr>\n",
       "    <tr>\n",
       "      <th>1</th>\n",
       "      <td>1003</td>\n",
       "      <td>218022</td>\n",
       "      <td>24757</td>\n",
       "      <td>11.355276</td>\n",
       "      <td>26913</td>\n",
       "      <td>12.344167</td>\n",
       "      <td>23579</td>\n",
       "      <td>10.814964</td>\n",
       "      <td>25213</td>\n",
       "      <td>11.564429</td>\n",
       "      <td>...</td>\n",
       "      <td>14692</td>\n",
       "      <td>12.0</td>\n",
       "      <td>11.0</td>\n",
       "      <td>13.1</td>\n",
       "      <td>20520</td>\n",
       "      <td>3.2</td>\n",
       "      <td>3.0</td>\n",
       "      <td>3.5</td>\n",
       "      <td>5479</td>\n",
       "      <td>4</td>\n",
       "    </tr>\n",
       "    <tr>\n",
       "      <th>2</th>\n",
       "      <td>1005</td>\n",
       "      <td>24881</td>\n",
       "      <td>2732</td>\n",
       "      <td>10.980266</td>\n",
       "      <td>2960</td>\n",
       "      <td>11.896628</td>\n",
       "      <td>3268</td>\n",
       "      <td>13.134520</td>\n",
       "      <td>3201</td>\n",
       "      <td>12.865239</td>\n",
       "      <td>...</td>\n",
       "      <td>2373</td>\n",
       "      <td>19.7</td>\n",
       "      <td>18.6</td>\n",
       "      <td>20.6</td>\n",
       "      <td>3870</td>\n",
       "      <td>4.5</td>\n",
       "      <td>4.2</td>\n",
       "      <td>4.8</td>\n",
       "      <td>887</td>\n",
       "      <td>6</td>\n",
       "    </tr>\n",
       "    <tr>\n",
       "      <th>3</th>\n",
       "      <td>1007</td>\n",
       "      <td>22400</td>\n",
       "      <td>2456</td>\n",
       "      <td>10.964286</td>\n",
       "      <td>2596</td>\n",
       "      <td>11.589286</td>\n",
       "      <td>3029</td>\n",
       "      <td>13.522321</td>\n",
       "      <td>3113</td>\n",
       "      <td>13.897321</td>\n",
       "      <td>...</td>\n",
       "      <td>1789</td>\n",
       "      <td>14.1</td>\n",
       "      <td>13.2</td>\n",
       "      <td>14.9</td>\n",
       "      <td>2511</td>\n",
       "      <td>3.3</td>\n",
       "      <td>3.1</td>\n",
       "      <td>3.6</td>\n",
       "      <td>595</td>\n",
       "      <td>2</td>\n",
       "    </tr>\n",
       "    <tr>\n",
       "      <th>4</th>\n",
       "      <td>1009</td>\n",
       "      <td>57840</td>\n",
       "      <td>7095</td>\n",
       "      <td>12.266598</td>\n",
       "      <td>7570</td>\n",
       "      <td>13.087828</td>\n",
       "      <td>6742</td>\n",
       "      <td>11.656293</td>\n",
       "      <td>6884</td>\n",
       "      <td>11.901798</td>\n",
       "      <td>...</td>\n",
       "      <td>4661</td>\n",
       "      <td>13.5</td>\n",
       "      <td>12.6</td>\n",
       "      <td>14.5</td>\n",
       "      <td>6017</td>\n",
       "      <td>3.4</td>\n",
       "      <td>3.2</td>\n",
       "      <td>3.7</td>\n",
       "      <td>1507</td>\n",
       "      <td>2</td>\n",
       "    </tr>\n",
       "  </tbody>\n",
       "</table>\n",
       "<p>5 rows × 108 columns</p>\n",
       "</div>"
      ],
      "text/plain": [
       "   fips  TOT_POP    0-9  0-9 y/o % of total pop  19-Oct  \\\n",
       "0  1001    55601   6787               12.206615    7637   \n",
       "1  1003   218022  24757               11.355276   26913   \n",
       "2  1005    24881   2732               10.980266    2960   \n",
       "3  1007    22400   2456               10.964286    2596   \n",
       "4  1009    57840   7095               12.266598    7570   \n",
       "\n",
       "   10-19 y/o % of total pop  20-29  20-29 y/o % of total pop  30-39  \\\n",
       "0                 13.735364   6878                 12.370281   7089   \n",
       "1                 12.344167  23579                 10.814964  25213   \n",
       "2                 11.896628   3268                 13.134520   3201   \n",
       "3                 11.589286   3029                 13.522321   3113   \n",
       "4                 13.087828   6742                 11.656293   6884   \n",
       "\n",
       "   30-39 y/o % of total pop  ...  COPD_number  diabetes_prevalence  \\\n",
       "0                 12.749771  ...         3644                 12.9   \n",
       "1                 11.564429  ...        14692                 12.0   \n",
       "2                 12.865239  ...         2373                 19.7   \n",
       "3                 13.897321  ...         1789                 14.1   \n",
       "4                 11.901798  ...         4661                 13.5   \n",
       "\n",
       "   diabetes_Lower 95% CI  diabetes_Upper 95% CI  diabetes_number  \\\n",
       "0                   11.9                   13.8             5462   \n",
       "1                   11.0                   13.1            20520   \n",
       "2                   18.6                   20.6             3870   \n",
       "3                   13.2                   14.9             2511   \n",
       "4                   12.6                   14.5             6017   \n",
       "\n",
       "   CKD_prevalence  CKD_Lower 95% CI  CKD_Upper 95% CI  CKD_number  \\\n",
       "0             3.1               2.9               3.3        1326   \n",
       "1             3.2               3.0               3.5        5479   \n",
       "2             4.5               4.2               4.8         887   \n",
       "3             3.3               3.1               3.6         595   \n",
       "4             3.4               3.2               3.7        1507   \n",
       "\n",
       "   Urban_rural_code  \n",
       "0                 3  \n",
       "1                 4  \n",
       "2                 6  \n",
       "3                 2  \n",
       "4                 2  \n",
       "\n",
       "[5 rows x 108 columns]"
      ]
     },
     "execution_count": 7,
     "metadata": {},
     "output_type": "execute_result"
    }
   ],
   "source": [
    "#Transformamos los datos ds tipo objeto\n",
    "\n",
    "# Crear un diccionario para almacenar un LabelEncoder para cada columna categórica\n",
    "le_dict = {}\n",
    "\n",
    "# Identificar las columnas categóricas\n",
    "categorical_cols = [\"COUNTY_NAME\", \"STATE_NAME\"]\n",
    "\n",
    "# Aplicar LabelEncoder a cada columna categórica\n",
    "for col in categorical_cols:\n",
    "    le = LabelEncoder()\n",
    "    data[col] = le.fit_transform(data[col])\n",
    "    le_dict[col] = le  # Guardar el encoder en el diccionario\n",
    "\n",
    "#df_with_dummies = pd.get_dummies(data, columns=['COUNTY_NAME','STATE_NAME'],drop_first=False) # creamos las dummies de 'neighbourhood_group' y 'room_type'\n",
    "#df_with_dummies = df_with_dummies.astype(int) \n",
    "data.head()"
   ]
  },
  {
   "cell_type": "code",
   "execution_count": 8,
   "metadata": {},
   "outputs": [
    {
     "data": {
      "text/plain": [
       "Urban_rural_code                                                             6\n",
       "Active Patient Care General Surgeons per 100000 Population 2018 (AAMC)      30\n",
       "Active General Surgeons per 100000 Population 2018 (AAMC)                   32\n",
       "CKD_Lower 95% CI                                                            39\n",
       "CKD_prevalence                                                              43\n",
       "                                                                          ... \n",
       "60-69 y/o % of total pop                                                  3139\n",
       "80+ y/o % of total pop                                                    3139\n",
       "70-79 y/o % of total pop                                                  3139\n",
       "% White-alone                                                             3139\n",
       "fips                                                                      3140\n",
       "Length: 108, dtype: int64"
      ]
     },
     "execution_count": 8,
     "metadata": {},
     "output_type": "execute_result"
    }
   ],
   "source": [
    "data.nunique().sort_values()"
   ]
  },
  {
   "cell_type": "code",
   "execution_count": 9,
   "metadata": {},
   "outputs": [],
   "source": [
    "data['target']=data['Active Primary Care Physicians per 100000 Population 2018 (AAMC)']\n",
    "data=data.drop(columns=['Active Primary Care Physicians per 100000 Population 2018 (AAMC)'])\n",
    "#data['Active Primary Care Physicians per 100000 Population 2018 (AAMC)']"
   ]
  },
  {
   "cell_type": "code",
   "execution_count": 10,
   "metadata": {},
   "outputs": [],
   "source": [
    "#Separar los data frame del train y test\n",
    "X = data.drop(columns=['target'])\n",
    "y = data['target']\n",
    "X_train, X_test, y_train, y_test = train_test_split(X, y, test_size = 0.2, random_state = 42)"
   ]
  },
  {
   "cell_type": "code",
   "execution_count": 11,
   "metadata": {},
   "outputs": [],
   "source": [
    "#Esclar las expresiones\n",
    "# Escalamos las expresiones de genes para que tengan una misma escala y contribución\n",
    "scaler = StandardScaler()\n",
    "X_train_sc = scaler.fit_transform(X_train)\n",
    "X_test_sc = scaler.transform(X_test)"
   ]
  },
  {
   "cell_type": "code",
   "execution_count": 12,
   "metadata": {},
   "outputs": [],
   "source": [
    "#Regresion lineal\n",
    "m_lineal = LinearRegression().fit(X_train_sc, y_train)\n",
    "y_pred_linear_train = m_lineal.predict(X_train_sc)\n",
    "y_pred_linear_test = m_lineal.predict(X_test_sc)"
   ]
  },
  {
   "cell_type": "code",
   "execution_count": 13,
   "metadata": {},
   "outputs": [],
   "source": [
    "def get_metrics(yhat, y_test, yhat_train, y_train):\n",
    "  metrics_train = r2_score(y_train, yhat_train), median_absolute_error(y_train, yhat_train), mean_absolute_percentage_error(y_train, yhat_train)*100\n",
    "  metrics_test = r2_score(y_test, yhat), median_absolute_error(y_test, yhat), mean_absolute_percentage_error(y_test, yhat)*100\n",
    "  metrics_diff = list(map(lambda x: x[1]-x[0], zip(metrics_train, metrics_test)))\n",
    "  return pd.DataFrame(data=[metrics_train, metrics_test, metrics_diff], columns=['R2', 'Median AE', 'MAPE'], index=['Train set', 'Test set', 'Diferencia'])"
   ]
  },
  {
   "cell_type": "code",
   "execution_count": 14,
   "metadata": {},
   "outputs": [
    {
     "data": {
      "text/html": [
       "<div>\n",
       "<style scoped>\n",
       "    .dataframe tbody tr th:only-of-type {\n",
       "        vertical-align: middle;\n",
       "    }\n",
       "\n",
       "    .dataframe tbody tr th {\n",
       "        vertical-align: top;\n",
       "    }\n",
       "\n",
       "    .dataframe thead th {\n",
       "        text-align: right;\n",
       "    }\n",
       "</style>\n",
       "<table border=\"1\" class=\"dataframe\">\n",
       "  <thead>\n",
       "    <tr style=\"text-align: right;\">\n",
       "      <th></th>\n",
       "      <th>R2</th>\n",
       "      <th>Median AE</th>\n",
       "      <th>MAPE</th>\n",
       "    </tr>\n",
       "  </thead>\n",
       "  <tbody>\n",
       "    <tr>\n",
       "      <th>Train set</th>\n",
       "      <td>0.997440</td>\n",
       "      <td>0.405327</td>\n",
       "      <td>0.528798</td>\n",
       "    </tr>\n",
       "    <tr>\n",
       "      <th>Test set</th>\n",
       "      <td>0.997275</td>\n",
       "      <td>0.416670</td>\n",
       "      <td>0.539030</td>\n",
       "    </tr>\n",
       "    <tr>\n",
       "      <th>Diferencia</th>\n",
       "      <td>-0.000165</td>\n",
       "      <td>0.011343</td>\n",
       "      <td>0.010232</td>\n",
       "    </tr>\n",
       "  </tbody>\n",
       "</table>\n",
       "</div>"
      ],
      "text/plain": [
       "                  R2  Median AE      MAPE\n",
       "Train set   0.997440   0.405327  0.528798\n",
       "Test set    0.997275   0.416670  0.539030\n",
       "Diferencia -0.000165   0.011343  0.010232"
      ]
     },
     "execution_count": 14,
     "metadata": {},
     "output_type": "execute_result"
    }
   ],
   "source": [
    "get_metrics(y_pred_linear_test, y_test, y_pred_linear_train, y_train)"
   ]
  },
  {
   "cell_type": "code",
   "execution_count": 15,
   "metadata": {},
   "outputs": [
    {
     "data": {
      "text/plain": [
       "array([ 5.55113140e+00, -2.18236286e+00,  2.14304488e+00, -4.58457516e+06,\n",
       "        5.32690925e-01, -3.87985673e+06, -2.20884398e+00, -6.73632193e+06,\n",
       "       -2.22546032e+00, -3.72468463e+06, -2.39135415e+00, -2.89968872e+06,\n",
       "       -6.30386346e-02, -3.21629422e+06, -1.28474029e-02, -5.40160123e+06,\n",
       "        6.90818574e-01, -4.70747768e+06,  1.18568137e-01, -3.30431562e+06,\n",
       "       -4.99712407e+00, -4.13637163e+07, -1.16428723e+00, -3.66153795e+07,\n",
       "       -7.71071673e-02, -1.95104426e+07, -1.06456819e+00, -7.25050300e+06,\n",
       "       -7.00404312e-03, -2.68204442e+06, -2.06005079e-01, -3.81827808e+06,\n",
       "       -6.25831653e+00,  1.12358518e-01, -9.25308280e-03,  1.27020248e-01,\n",
       "       -1.11571112e-01, -1.68117450e-01,  4.54109751e-01,  2.39268374e+00,\n",
       "       -2.39705463e+00,  3.66316574e-01,  1.49252679e+00, -7.31944635e-01,\n",
       "        9.76617118e-01,  1.86510695e+00,  2.15101752e+00,  1.55671854e+00,\n",
       "        2.79435955e+00,  9.96902417e-02, -1.11411861e-02,  9.29197352e-02,\n",
       "       -1.58792591e-01, -1.63143351e+00,  4.31389381e+00,  4.24571443e+00,\n",
       "       -3.40668996e-01, -1.33162255e+00,  3.14827622e-01, -3.91241787e-02,\n",
       "       -6.83546278e+00, -2.94786822e-02,  7.33318157e+00, -6.72545967e+00,\n",
       "        1.14906670e+01,  3.12154756e+00, -2.62922957e+00, -2.64314843e-01,\n",
       "        1.80316816e-01, -7.02662044e-02,  1.11918421e-01,  4.01859967e-01,\n",
       "       -7.22856069e-01,  5.88434180e-02,  4.20389766e+00, -3.79697791e+00,\n",
       "        1.01697063e-01,  5.16216634e-02, -7.77090646e+00,  2.28823575e+00,\n",
       "       -1.56837985e-01,  1.98322738e+01, -4.73741079e-02, -1.66472192e-01,\n",
       "        5.31673100e-01, -2.93660025e-01, -3.37018076e-01, -1.13616854e-01,\n",
       "        3.76877194e-01, -3.49681322e-02, -7.72776979e-01, -3.38594446e-01,\n",
       "        4.08419305e-01, -4.09962101e-01,  3.34553968e-01,  1.22435824e-01,\n",
       "       -4.00211557e-01, -7.13556306e-03, -1.50557994e+00,  6.82595397e-01,\n",
       "        6.87420541e-01, -1.85372858e-01,  2.97661614e-01,  5.00576865e-01,\n",
       "       -2.10028250e-01, -1.00036175e+00, -6.04962334e-02])"
      ]
     },
     "execution_count": 15,
     "metadata": {},
     "output_type": "execute_result"
    }
   ],
   "source": [
    "m_lineal.coef_"
   ]
  },
  {
   "cell_type": "code",
   "execution_count": 16,
   "metadata": {},
   "outputs": [
    {
     "data": {
      "image/png": "[encoded data removed]",
      "text/plain": [
       "<Figure size 1000x400 with 2 Axes>"
      ]
     },
     "metadata": {},
     "output_type": "display_data"
    }
   ],
   "source": [
    "plt.figure(figsize=(10, 4))\n",
    "plt.subplot(1, 2, 1)\n",
    "plt.boxplot(m_lineal.coef_)\n",
    "plt.title('Boxplot de los coeficientes de regresión lineal')\n",
    "plt.subplot(1, 2, 2)\n",
    "plt.hist(m_lineal.coef_,50)\n",
    "plt.xlabel('Valores de coeficientes para cada gen')\n",
    "plt.ylabel('Total de coeficientes para cada rango')\n",
    "plt.title('Histograma de coeficientes')\n",
    "plt.show()"
   ]
  },
  {
   "cell_type": "code",
   "execution_count": 17,
   "metadata": {},
   "outputs": [
    {
     "name": "stderr",
     "output_type": "stream",
     "text": [
      "/home/vscode/.local/lib/python3.10/site-packages/sklearn/linear_model/_coordinate_descent.py:683: ConvergenceWarning: Objective did not converge. You might want to increase the number of iterations. Duality gap: 309.62613965831645, tolerance: 32.83549138576406\n",
      "  model = cd_fast.enet_coordinate_descent_gram(\n",
      "/home/vscode/.local/lib/python3.10/site-packages/sklearn/linear_model/_coordinate_descent.py:683: ConvergenceWarning: Objective did not converge. You might want to increase the number of iterations. Duality gap: 333.54588464937115, tolerance: 32.2820203902439\n",
      "  model = cd_fast.enet_coordinate_descent_gram(\n",
      "/home/vscode/.local/lib/python3.10/site-packages/sklearn/linear_model/_coordinate_descent.py:683: ConvergenceWarning: Objective did not converge. You might want to increase the number of iterations. Duality gap: 382.15108981444166, tolerance: 32.83549138576406\n",
      "  model = cd_fast.enet_coordinate_descent_gram(\n",
      "/home/vscode/.local/lib/python3.10/site-packages/sklearn/linear_model/_coordinate_descent.py:683: ConvergenceWarning: Objective did not converge. You might want to increase the number of iterations. Duality gap: 408.2875589130964, tolerance: 32.2820203902439\n",
      "  model = cd_fast.enet_coordinate_descent_gram(\n",
      "/home/vscode/.local/lib/python3.10/site-packages/sklearn/linear_model/_coordinate_descent.py:683: ConvergenceWarning: Objective did not converge. You might want to increase the number of iterations. Duality gap: 387.414631430898, tolerance: 32.83549138576406\n",
      "  model = cd_fast.enet_coordinate_descent_gram(\n",
      "/home/vscode/.local/lib/python3.10/site-packages/sklearn/linear_model/_coordinate_descent.py:683: ConvergenceWarning: Objective did not converge. You might want to increase the number of iterations. Duality gap: 337.56534470145607, tolerance: 32.60484882636817\n",
      "  model = cd_fast.enet_coordinate_descent_gram(\n",
      "/home/vscode/.local/lib/python3.10/site-packages/sklearn/linear_model/_coordinate_descent.py:683: ConvergenceWarning: Objective did not converge. You might want to increase the number of iterations. Duality gap: 414.48585001844765, tolerance: 32.60484882636817\n",
      "  model = cd_fast.enet_coordinate_descent_gram(\n",
      "/home/vscode/.local/lib/python3.10/site-packages/sklearn/linear_model/_coordinate_descent.py:683: ConvergenceWarning: Objective did not converge. You might want to increase the number of iterations. Duality gap: 414.0201274735127, tolerance: 32.2820203902439\n",
      "  model = cd_fast.enet_coordinate_descent_gram(\n",
      "/home/vscode/.local/lib/python3.10/site-packages/sklearn/linear_model/_coordinate_descent.py:683: ConvergenceWarning: Objective did not converge. You might want to increase the number of iterations. Duality gap: 418.70639141120904, tolerance: 32.60484882636817\n",
      "  model = cd_fast.enet_coordinate_descent_gram(\n",
      "/home/vscode/.local/lib/python3.10/site-packages/sklearn/linear_model/_coordinate_descent.py:683: ConvergenceWarning: Objective did not converge. You might want to increase the number of iterations. Duality gap: 328.1716086012903, tolerance: 30.62791420099502\n",
      "  model = cd_fast.enet_coordinate_descent_gram(\n",
      "/home/vscode/.local/lib/python3.10/site-packages/sklearn/linear_model/_coordinate_descent.py:683: ConvergenceWarning: Objective did not converge. You might want to increase the number of iterations. Duality gap: 351.2012973967814, tolerance: 33.03509590099504\n",
      "  model = cd_fast.enet_coordinate_descent_gram(\n",
      "/home/vscode/.local/lib/python3.10/site-packages/sklearn/linear_model/_coordinate_descent.py:683: ConvergenceWarning: Objective did not converge. You might want to increase the number of iterations. Duality gap: 389.09365543480163, tolerance: 30.62791420099502\n",
      "  model = cd_fast.enet_coordinate_descent_gram(\n",
      "/home/vscode/.local/lib/python3.10/site-packages/sklearn/linear_model/_coordinate_descent.py:683: ConvergenceWarning: Objective did not converge. You might want to increase the number of iterations. Duality gap: 428.48484966245894, tolerance: 33.03509590099504\n",
      "  model = cd_fast.enet_coordinate_descent_gram(\n",
      "/home/vscode/.local/lib/python3.10/site-packages/sklearn/linear_model/_coordinate_descent.py:683: ConvergenceWarning: Objective did not converge. You might want to increase the number of iterations. Duality gap: 392.3407299497167, tolerance: 30.62791420099502\n",
      "  model = cd_fast.enet_coordinate_descent_gram(\n",
      "/home/vscode/.local/lib/python3.10/site-packages/sklearn/linear_model/_coordinate_descent.py:683: ConvergenceWarning: Objective did not converge. You might want to increase the number of iterations. Duality gap: 432.5976032451676, tolerance: 33.03509590099504\n",
      "  model = cd_fast.enet_coordinate_descent_gram(\n",
      "/home/vscode/.local/lib/python3.10/site-packages/sklearn/linear_model/_coordinate_descent.py:697: ConvergenceWarning: Objective did not converge. You might want to increase the number of iterations, check the scale of the features or consider increasing regularisation. Duality gap: 4.270e+02, tolerance: 4.035e+01\n",
      "  model = cd_fast.enet_coordinate_descent(\n"
     ]
    }
   ],
   "source": [
    "m_lasso = LassoCV(alphas=np.logspace(-6,6,10), cv=5, random_state=42, n_jobs=-1).fit(X_train_sc, y_train)"
   ]
  },
  {
   "cell_type": "code",
   "execution_count": 18,
   "metadata": {},
   "outputs": [],
   "source": [
    "y_pred_lasso_train = m_lasso.predict(X_train_sc)\n",
    "y_pred_lasso_test = m_lasso.predict(X_test_sc)"
   ]
  },
  {
   "cell_type": "code",
   "execution_count": 19,
   "metadata": {},
   "outputs": [
    {
     "data": {
      "text/html": [
       "<div>\n",
       "<style scoped>\n",
       "    .dataframe tbody tr th:only-of-type {\n",
       "        vertical-align: middle;\n",
       "    }\n",
       "\n",
       "    .dataframe tbody tr th {\n",
       "        vertical-align: top;\n",
       "    }\n",
       "\n",
       "    .dataframe thead th {\n",
       "        text-align: right;\n",
       "    }\n",
       "</style>\n",
       "<table border=\"1\" class=\"dataframe\">\n",
       "  <thead>\n",
       "    <tr style=\"text-align: right;\">\n",
       "      <th></th>\n",
       "      <th>R2</th>\n",
       "      <th>Median AE</th>\n",
       "      <th>MAPE</th>\n",
       "    </tr>\n",
       "  </thead>\n",
       "  <tbody>\n",
       "    <tr>\n",
       "      <th>Train set</th>\n",
       "      <td>0.997440</td>\n",
       "      <td>0.405327</td>\n",
       "      <td>0.528798</td>\n",
       "    </tr>\n",
       "    <tr>\n",
       "      <th>Test set</th>\n",
       "      <td>0.997275</td>\n",
       "      <td>0.416670</td>\n",
       "      <td>0.539030</td>\n",
       "    </tr>\n",
       "    <tr>\n",
       "      <th>Diferencia</th>\n",
       "      <td>-0.000165</td>\n",
       "      <td>0.011343</td>\n",
       "      <td>0.010232</td>\n",
       "    </tr>\n",
       "  </tbody>\n",
       "</table>\n",
       "</div>"
      ],
      "text/plain": [
       "                  R2  Median AE      MAPE\n",
       "Train set   0.997440   0.405327  0.528798\n",
       "Test set    0.997275   0.416670  0.539030\n",
       "Diferencia -0.000165   0.011343  0.010232"
      ]
     },
     "execution_count": 19,
     "metadata": {},
     "output_type": "execute_result"
    }
   ],
   "source": [
    "get_metrics(y_pred_linear_test, y_test, y_pred_linear_train, y_train)"
   ]
  },
  {
   "cell_type": "code",
   "execution_count": 20,
   "metadata": {},
   "outputs": [
    {
     "data": {
      "text/html": [
       "<div>\n",
       "<style scoped>\n",
       "    .dataframe tbody tr th:only-of-type {\n",
       "        vertical-align: middle;\n",
       "    }\n",
       "\n",
       "    .dataframe tbody tr th {\n",
       "        vertical-align: top;\n",
       "    }\n",
       "\n",
       "    .dataframe thead th {\n",
       "        text-align: right;\n",
       "    }\n",
       "</style>\n",
       "<table border=\"1\" class=\"dataframe\">\n",
       "  <thead>\n",
       "    <tr style=\"text-align: right;\">\n",
       "      <th></th>\n",
       "      <th>R2</th>\n",
       "      <th>Median AE</th>\n",
       "      <th>MAPE</th>\n",
       "    </tr>\n",
       "  </thead>\n",
       "  <tbody>\n",
       "    <tr>\n",
       "      <th>Train set</th>\n",
       "      <td>0.997315</td>\n",
       "      <td>0.412415</td>\n",
       "      <td>0.537083</td>\n",
       "    </tr>\n",
       "    <tr>\n",
       "      <th>Test set</th>\n",
       "      <td>0.997228</td>\n",
       "      <td>0.417475</td>\n",
       "      <td>0.545647</td>\n",
       "    </tr>\n",
       "    <tr>\n",
       "      <th>Diferencia</th>\n",
       "      <td>-0.000086</td>\n",
       "      <td>0.005061</td>\n",
       "      <td>0.008564</td>\n",
       "    </tr>\n",
       "  </tbody>\n",
       "</table>\n",
       "</div>"
      ],
      "text/plain": [
       "                  R2  Median AE      MAPE\n",
       "Train set   0.997315   0.412415  0.537083\n",
       "Test set    0.997228   0.417475  0.545647\n",
       "Diferencia -0.000086   0.005061  0.008564"
      ]
     },
     "execution_count": 20,
     "metadata": {},
     "output_type": "execute_result"
    }
   ],
   "source": [
    "get_metrics(y_pred_lasso_test, y_test, y_pred_lasso_train, y_train)"
   ]
  },
  {
   "cell_type": "code",
   "execution_count": 21,
   "metadata": {},
   "outputs": [
    {
     "data": {
      "image/png": "[encoded data removed]",
      "text/plain": [
       "<Figure size 1000x400 with 2 Axes>"
      ]
     },
     "metadata": {},
     "output_type": "display_data"
    }
   ],
   "source": [
    "\n",
    "plt.figure(figsize=(10, 4))\n",
    "plt.subplot(1, 2, 1)\n",
    "plt.boxplot(m_lasso.coef_)\n",
    "plt.title('Boxplot de los coeficientes de regresión lineal')\n",
    "plt.subplot(1, 2, 2)\n",
    "plt.hist(m_lasso.coef_,10)\n",
    "plt.xlabel('Valores de coeficientes para cada gen')\n",
    "plt.ylabel('Total de coeficientes para cada rango')\n",
    "plt.title('Histograma de coeficientes')\n",
    "plt.show()"
   ]
  },
  {
   "cell_type": "code",
   "execution_count": 22,
   "metadata": {},
   "outputs": [
    {
     "name": "stdout",
     "output_type": "stream",
     "text": [
      "Porcentaje de variables canceladas -> 20.56%\n",
      "Modelo utiliza -> 85 variables.\n"
     ]
    }
   ],
   "source": [
    "\n",
    "print(f'Porcentaje de variables canceladas -> {round(len(m_lasso.coef_[np.abs(m_lasso.coef_)==0])/len(m_lasso.coef_)*100,2)}%')\n",
    "print(f'Modelo utiliza -> {len(m_lasso.coef_[np.abs(m_lasso.coef_)>0])} variables.')"
   ]
  },
  {
   "cell_type": "code",
   "execution_count": 23,
   "metadata": {},
   "outputs": [],
   "source": [
    "m_ridge = RidgeCV(alphas=np.logspace(-6,6,10), cv=5).fit(X_train_sc, y_train)"
   ]
  },
  {
   "cell_type": "code",
   "execution_count": 24,
   "metadata": {},
   "outputs": [],
   "source": [
    "y_pred_ridge_train = m_ridge.predict(X_train_sc)\n",
    "y_pred_ridge_test = m_ridge.predict(X_test_sc)"
   ]
  },
  {
   "cell_type": "code",
   "execution_count": 25,
   "metadata": {},
   "outputs": [
    {
     "data": {
      "text/html": [
       "<div>\n",
       "<style scoped>\n",
       "    .dataframe tbody tr th:only-of-type {\n",
       "        vertical-align: middle;\n",
       "    }\n",
       "\n",
       "    .dataframe tbody tr th {\n",
       "        vertical-align: top;\n",
       "    }\n",
       "\n",
       "    .dataframe thead th {\n",
       "        text-align: right;\n",
       "    }\n",
       "</style>\n",
       "<table border=\"1\" class=\"dataframe\">\n",
       "  <thead>\n",
       "    <tr style=\"text-align: right;\">\n",
       "      <th></th>\n",
       "      <th>R2</th>\n",
       "      <th>Median AE</th>\n",
       "      <th>MAPE</th>\n",
       "    </tr>\n",
       "  </thead>\n",
       "  <tbody>\n",
       "    <tr>\n",
       "      <th>Train set</th>\n",
       "      <td>0.997423</td>\n",
       "      <td>0.407320</td>\n",
       "      <td>0.528251</td>\n",
       "    </tr>\n",
       "    <tr>\n",
       "      <th>Test set</th>\n",
       "      <td>0.997314</td>\n",
       "      <td>0.422358</td>\n",
       "      <td>0.537717</td>\n",
       "    </tr>\n",
       "    <tr>\n",
       "      <th>Diferencia</th>\n",
       "      <td>-0.000109</td>\n",
       "      <td>0.015037</td>\n",
       "      <td>0.009465</td>\n",
       "    </tr>\n",
       "  </tbody>\n",
       "</table>\n",
       "</div>"
      ],
      "text/plain": [
       "                  R2  Median AE      MAPE\n",
       "Train set   0.997423   0.407320  0.528251\n",
       "Test set    0.997314   0.422358  0.537717\n",
       "Diferencia -0.000109   0.015037  0.009465"
      ]
     },
     "execution_count": 25,
     "metadata": {},
     "output_type": "execute_result"
    }
   ],
   "source": [
    "get_metrics(y_pred_ridge_test, y_test, y_pred_ridge_train, y_train)"
   ]
  },
  {
   "cell_type": "code",
   "execution_count": 26,
   "metadata": {},
   "outputs": [
    {
     "data": {
      "image/png": "[encoded data removed]",
      "text/plain": [
       "<Figure size 1000x400 with 2 Axes>"
      ]
     },
     "metadata": {},
     "output_type": "display_data"
    }
   ],
   "source": [
    "plt.figure(figsize=(10, 4))\n",
    "plt.subplot(1, 2, 1)\n",
    "plt.boxplot(m_ridge.coef_)\n",
    "plt.title('Boxplot de los coeficientes de regresión lineal')\n",
    "plt.subplot(1, 2, 2)\n",
    "plt.hist(m_ridge.coef_,10)\n",
    "plt.xlabel('Valores de coeficientes para cada gen')\n",
    "plt.ylabel('Total de coeficientes para cada rango')\n",
    "plt.title('Histograma de coeficientes')\n",
    "plt.show()"
   ]
  },
  {
   "cell_type": "code",
   "execution_count": 27,
   "metadata": {},
   "outputs": [
    {
     "name": "stdout",
     "output_type": "stream",
     "text": [
      "Porcentaje de variables canceladas -> 0.0%\n",
      "Modelo utiliza -> 107 variables.\n"
     ]
    }
   ],
   "source": [
    "print(f'Porcentaje de variables canceladas -> {round(len(m_ridge.coef_[np.abs(m_ridge.coef_)==0])/len(m_ridge.coef_)*100,2)}%')\n",
    "print(f'Modelo utiliza -> {len(m_ridge.coef_[np.abs(m_ridge.coef_)>0])} variables.')"
   ]
  },
  {
   "cell_type": "code",
   "execution_count": 28,
   "metadata": {},
   "outputs": [],
   "source": [
    "#Hipostesis de L1 para seleccionar variables\n",
    "#Hipostesis de L2 para reduccion de un posible overfitting\n",
    "X_train_v1 = X_train_sc[:,np.where(np.abs(m_lasso.coef_)>0)[0]]\n",
    "X_test_v1 = X_test_sc[:,np.where(np.abs(m_lasso.coef_)>0)[0]]"
   ]
  },
  {
   "cell_type": "code",
   "execution_count": 29,
   "metadata": {},
   "outputs": [],
   "source": [
    "m_ridge_v1 = RidgeCV(alphas=np.logspace(-6,6,10), cv=5).fit(X_train_v1, y_train)"
   ]
  },
  {
   "cell_type": "code",
   "execution_count": 30,
   "metadata": {},
   "outputs": [],
   "source": [
    "y_pred_ridge_train_v1 = m_ridge_v1.predict(X_train_v1)\n",
    "y_pred_ridge_test_v1 = m_ridge_v1.predict(X_test_v1)"
   ]
  },
  {
   "cell_type": "code",
   "execution_count": 31,
   "metadata": {},
   "outputs": [
    {
     "data": {
      "text/html": [
       "<div>\n",
       "<style scoped>\n",
       "    .dataframe tbody tr th:only-of-type {\n",
       "        vertical-align: middle;\n",
       "    }\n",
       "\n",
       "    .dataframe tbody tr th {\n",
       "        vertical-align: top;\n",
       "    }\n",
       "\n",
       "    .dataframe thead th {\n",
       "        text-align: right;\n",
       "    }\n",
       "</style>\n",
       "<table border=\"1\" class=\"dataframe\">\n",
       "  <thead>\n",
       "    <tr style=\"text-align: right;\">\n",
       "      <th></th>\n",
       "      <th>R2</th>\n",
       "      <th>Median AE</th>\n",
       "      <th>MAPE</th>\n",
       "    </tr>\n",
       "  </thead>\n",
       "  <tbody>\n",
       "    <tr>\n",
       "      <th>Train set</th>\n",
       "      <td>0.997413</td>\n",
       "      <td>0.410835</td>\n",
       "      <td>0.529472</td>\n",
       "    </tr>\n",
       "    <tr>\n",
       "      <th>Test set</th>\n",
       "      <td>0.997324</td>\n",
       "      <td>0.418015</td>\n",
       "      <td>0.539002</td>\n",
       "    </tr>\n",
       "    <tr>\n",
       "      <th>Diferencia</th>\n",
       "      <td>-0.000089</td>\n",
       "      <td>0.007180</td>\n",
       "      <td>0.009530</td>\n",
       "    </tr>\n",
       "  </tbody>\n",
       "</table>\n",
       "</div>"
      ],
      "text/plain": [
       "                  R2  Median AE      MAPE\n",
       "Train set   0.997413   0.410835  0.529472\n",
       "Test set    0.997324   0.418015  0.539002\n",
       "Diferencia -0.000089   0.007180  0.009530"
      ]
     },
     "execution_count": 31,
     "metadata": {},
     "output_type": "execute_result"
    }
   ],
   "source": [
    "get_metrics(y_pred_ridge_test_v1, y_test, y_pred_ridge_train_v1, y_train)"
   ]
  },
  {
   "cell_type": "code",
   "execution_count": 32,
   "metadata": {},
   "outputs": [
    {
     "data": {
      "text/html": [
       "<div>\n",
       "<style scoped>\n",
       "    .dataframe tbody tr th:only-of-type {\n",
       "        vertical-align: middle;\n",
       "    }\n",
       "\n",
       "    .dataframe tbody tr th {\n",
       "        vertical-align: top;\n",
       "    }\n",
       "\n",
       "    .dataframe thead th {\n",
       "        text-align: right;\n",
       "    }\n",
       "</style>\n",
       "<table border=\"1\" class=\"dataframe\">\n",
       "  <thead>\n",
       "    <tr style=\"text-align: right;\">\n",
       "      <th></th>\n",
       "      <th>R2</th>\n",
       "      <th>Median AE</th>\n",
       "      <th>MAPE</th>\n",
       "    </tr>\n",
       "  </thead>\n",
       "  <tbody>\n",
       "    <tr>\n",
       "      <th>Train set</th>\n",
       "      <td>0.997315</td>\n",
       "      <td>0.412415</td>\n",
       "      <td>0.537083</td>\n",
       "    </tr>\n",
       "    <tr>\n",
       "      <th>Test set</th>\n",
       "      <td>0.997228</td>\n",
       "      <td>0.417475</td>\n",
       "      <td>0.545647</td>\n",
       "    </tr>\n",
       "    <tr>\n",
       "      <th>Diferencia</th>\n",
       "      <td>-0.000086</td>\n",
       "      <td>0.005061</td>\n",
       "      <td>0.008564</td>\n",
       "    </tr>\n",
       "  </tbody>\n",
       "</table>\n",
       "</div>"
      ],
      "text/plain": [
       "                  R2  Median AE      MAPE\n",
       "Train set   0.997315   0.412415  0.537083\n",
       "Test set    0.997228   0.417475  0.545647\n",
       "Diferencia -0.000086   0.005061  0.008564"
      ]
     },
     "execution_count": 32,
     "metadata": {},
     "output_type": "execute_result"
    }
   ],
   "source": [
    "get_metrics(y_pred_lasso_test, y_test, y_pred_lasso_train, y_train)"
   ]
  },
  {
   "cell_type": "code",
   "execution_count": 33,
   "metadata": {},
   "outputs": [
    {
     "data": {
      "text/plain": [
       "array([  0,   1,   3,   4,   5,   7,   9,  12,  13,  15,  16,  17,  18,\n",
       "        19,  20,  22,  23,  24,  25,  26,  27,  28,  29,  30,  31,  33,\n",
       "        34,  35,  37,  39,  40,  41,  42,  43,  44,  45,  46,  47,  49,\n",
       "        50,  52,  54,  55,  56,  57,  58,  59,  61,  62,  63,  64,  65,\n",
       "        66,  67,  68,  69,  70,  71,  72,  73,  74,  75,  76,  77,  78,\n",
       "        79,  80,  81,  84,  85,  87,  88,  89,  90,  91,  93,  94,  95,\n",
       "        96,  97,  98, 101, 102, 103, 106])"
      ]
     },
     "execution_count": 33,
     "metadata": {},
     "output_type": "execute_result"
    }
   ],
   "source": [
    "np.where(np.abs(m_lasso.coef_)>0)[0]"
   ]
  }
 ],
 "metadata": {
  "language_info": {
   "name": "python"
  }
 },
 "nbformat": 4,
 "nbformat_minor": 2
}
